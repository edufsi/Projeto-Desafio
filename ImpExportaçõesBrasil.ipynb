{
  "nbformat": 4,
  "nbformat_minor": 0,
  "metadata": {
    "colab": {
      "provenance": [],
      "authorship_tag": "ABX9TyMbzxBijIfYPx9xLjaX7DGe",
      "include_colab_link": true
    },
    "kernelspec": {
      "name": "python3",
      "display_name": "Python 3"
    },
    "language_info": {
      "name": "python"
    }
  },
  "cells": [
    {
      "cell_type": "markdown",
      "metadata": {
        "id": "view-in-github",
        "colab_type": "text"
      },
      "source": [
        "<a href=\"https://colab.research.google.com/github/edufsi/Projeto-Desafio/blob/Eduardo/ImpExporta%C3%A7%C3%B5esBrasil.ipynb\" target=\"_parent\"><img src=\"https://colab.research.google.com/assets/colab-badge.svg\" alt=\"Open In Colab\"/></a>"
      ]
    },
    {
      "cell_type": "code",
      "execution_count": 12,
      "metadata": {
        "id": "r6xcsfJAq0We"
      },
      "outputs": [],
      "source": [
        "import pandas as pd\n",
        "\n",
        "\n",
        "def imp_dados_exp_br(ano_inicio, ano_fim):\n",
        "  if ano_inicio < 1997 or ano_fim > 2023 or ano_inicio > ano_fim:\n",
        "    raise Exception(\"Datas para importação dos dados inválidas. O ano mínimo é 1988 e o ano máximo é 2022\")\n",
        "\n",
        "  ncm = pd.read_csv('https://raw.githubusercontent.com/edufsi/Projeto-Desafio/Eduardo/Dados/EXP-BRASIL/NCM.csv', encoding='ISO-8859-1', sep=';')\n",
        "  df_cod_paises = pd.read_csv('https://github.com/edufsi/Projeto-Desafio/raw/Eduardo/Dados/EXP-BRASIL/PAIS.csv', encoding='ISO-8859-1', sep=';')\n",
        "\n",
        "  df_cod_paises.drop(columns=['CO_PAIS_ISON3', 'CO_PAIS_ISOA3', 'NO_PAIS_ING', 'NO_PAIS_ESP'], inplace = True)\n",
        "\n",
        "  ncm.drop(columns=['CO_UNID', 'CO_SH6', 'CO_PPE', 'CO_PPI', 'CO_FAT_AGREG',\n",
        "       'CO_CUCI_ITEM', 'CO_CGCE_N3', 'CO_SIIT', 'CO_ISIC_CLASSE',\n",
        "       'CO_EXP_SUBSET', 'NO_NCM_ESP', 'NO_NCM_ING'], inplace=True)\n",
        "\n",
        "\n",
        "\n",
        "  dados_finais = pd.DataFrame()\n",
        "\n",
        "  for i in range(ano_inicio, ano_fim + 1):\n",
        "    dados_ano = pd.read_csv(f'https://github.com/edufsi/Projeto-Desafio/raw/Eduardo/Dados/EXP-BRASIL/exp{i}.zip', encoding='ISO-8859-1', sep=',', compression='zip')\n",
        "\n",
        "    df_com_paises = pd.merge(dados_ano, df_cod_paises, on='CO_PAIS', how='left')\n",
        "    df_final_ano = pd.merge(df_com_paises, ncm, on='CO_NCM', how='left')\n",
        "\n",
        "    dados_finais = pd.concat([dados_finais, df_final_ano])\n",
        "\n",
        "  dados_finais.index = range(len(dados_finais))\n",
        "\n",
        "  return dados_finais\n",
        "\n",
        "\n",
        "dados = imp_dados_exp_br(1997, 2023)\n",
        "\n",
        "\n"
      ]
    },
    {
      "cell_type": "code",
      "source": [],
      "metadata": {
        "id": "sCTNzsBTrq_0"
      },
      "execution_count": null,
      "outputs": []
    }
  ]
}