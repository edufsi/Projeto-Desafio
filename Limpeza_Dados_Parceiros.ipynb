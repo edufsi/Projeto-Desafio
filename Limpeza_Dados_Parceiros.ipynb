{
  "nbformat": 4,
  "nbformat_minor": 0,
  "metadata": {
    "colab": {
      "provenance": [],
      "authorship_tag": "ABX9TyMgckGbyshE9qfuLKGX60L+",
      "include_colab_link": true
    },
    "kernelspec": {
      "name": "python3",
      "display_name": "Python 3"
    },
    "language_info": {
      "name": "python"
    }
  },
  "cells": [
    {
      "cell_type": "markdown",
      "metadata": {
        "id": "view-in-github",
        "colab_type": "text"
      },
      "source": [
        "<a href=\"https://colab.research.google.com/github/edufsi/Projeto-Desafio/blob/Eduardo/Limpeza_Dados_Parceiros.ipynb\" target=\"_parent\"><img src=\"https://colab.research.google.com/assets/colab-badge.svg\" alt=\"Open In Colab\"/></a>"
      ]
    },
    {
      "cell_type": "code",
      "execution_count": 131,
      "metadata": {
        "id": "LoTJ3ZUC8an6"
      },
      "outputs": [],
      "source": [
        "import pandas as pd\n",
        "import numpy as np"
      ]
    },
    {
      "cell_type": "code",
      "source": [
        "#Importar dados:\n",
        "url_commodities = \"https://raw.githubusercontent.com/edufsi/Projeto-Desafio/main/Dados/UNdata_Export_20240412_201846138.csv\"\n",
        "url_parceiros = \"https://raw.githubusercontent.com/edufsi/Projeto-Desafio/main/Dados/SYB66_330_202310_Major%20Trading%20Partners.csv\"\n",
        "url_exportacoes = \"https://raw.githubusercontent.com/edufsi/Projeto-Desafio/main/Dados/SYB66_123_202310_Total%20Imports%20Exports%20and%20Balance%20of%20Trade.csv\"\n",
        "url_cambio = \"https://raw.githubusercontent.com/edufsi/Projeto-Desafio/main/Dados/USD_BRL_Historical_Data.csv\"\n",
        "\n",
        "\n",
        "dados_commodities = pd.read_csv(url_commodities)\n",
        "dados_parceiros = pd.read_csv(url_parceiros, encoding = \"ISO-8859-1\")\n",
        "dados_exportacoes = pd.read_csv(url_exportacoes, encoding = \"ISO-8859-1\")\n",
        "dados_cambio = pd.read_csv(url_cambio)"
      ],
      "metadata": {
        "id": "Uva1iBsw8bep"
      },
      "execution_count": 132,
      "outputs": []
    },
    {
      "cell_type": "code",
      "source": [
        "# VISÃO GERAL\n",
        "dados_parceiros.head()"
      ],
      "metadata": {
        "id": "WWi6xqse8gVR"
      },
      "execution_count": null,
      "outputs": []
    },
    {
      "cell_type": "code",
      "source": [
        "dados_parceiros.info()"
      ],
      "metadata": {
        "id": "_2WwZax78mXR"
      },
      "execution_count": null,
      "outputs": []
    },
    {
      "cell_type": "code",
      "source": [
        "# Os titulos das colunas estao errados. Eles estao na segunda coluna. Na primeira temos um titulo\n",
        "# Podemos usar iloc para selecionar linhas. Passando um intervalo, uma lista ou um numero retornamos as linhas correspondentes\n",
        "\n",
        "\n",
        "# Vamos tomar a primeira linha e defini-la como nossas colunas\n",
        "dados_parceiros.columns = dados_parceiros.iloc[0]\n",
        "\n",
        "\n",
        "# Agora que os titulos ja estao corretos, podemos excluir essa primeira linha que continha os títulos\n",
        "dados_parceiros.drop(0, inplace=True)\n",
        "\n",
        "\n",
        "dados_parceiros.info()"
      ],
      "metadata": {
        "id": "s42QKYL882nQ"
      },
      "execution_count": null,
      "outputs": []
    },
    {
      "cell_type": "code",
      "source": [
        "# Vamos retirar as colunas Major trading partner 1 (% of exports) footnote e Footnotes, que só dizem se os dados são estimativas ou não\n",
        "dados_parceiros.drop([\"Footnotes\", \"Major trading partner 1 (% of exports) footnote\", \"Source\"], axis=1, inplace=True)"
      ],
      "metadata": {
        "id": "owGgKO739IBi"
      },
      "execution_count": 136,
      "outputs": []
    },
    {
      "cell_type": "code",
      "source": [
        "# No arquivo original, foram associados valores para representar as regioes/paises/areas e há uma coluna sem titulo para a descricao\n",
        "# Seria melhor aqui ter apenas uma coluna com os nomes das regiões, áreas e dos países. Temos que alterAR entao o nome da segunda coluna, essa sem titulo\n",
        "\n",
        "\n",
        "lista = [x for x in dados_parceiros.columns]\n",
        "lista[1] = \"Region/Country\" # Substituindo o nome da coluna com nan por \"Region/Country\" (segunda coluna)\n",
        "\n",
        "dados_parceiros.columns = lista\n",
        "\n",
        "\n",
        "\n",
        "# Agora podemos retirar a coluna com os códigos\n",
        "dados_parceiros.drop(\"Region/Country/Area\", axis=1, inplace=True)"
      ],
      "metadata": {
        "id": "a51dNbOaAEhG"
      },
      "execution_count": 137,
      "outputs": []
    },
    {
      "cell_type": "code",
      "source": [
        "# A coluna Value esta como objeto, mas ela deveria ser um valor em porcentagem. Vamos tranforma-la em numero e converte-la para porcentagem\n",
        "\n",
        "# Tranforma a coluna em numeros de ponto flutuante\n",
        "dados_parceiros['Value'] = dados_parceiros['Value'].astype(np.float32)\n",
        "\n",
        "\n",
        "# Os números são porcentagens. Para facilitar contas, vamos transformá-los em decimais\n",
        "dados_parceiros['Value'] = dados_parceiros['Value'] / 100\n"
      ],
      "metadata": {
        "id": "_CEu3UBb9qNP"
      },
      "execution_count": 138,
      "outputs": []
    },
    {
      "cell_type": "code",
      "source": [
        "# O nome da coluna \"Major trading partner 1 (% of exports)\" também não faz muito sentido, pois temos linhas que representam o segundo e o terceiro\n",
        "# maior parceiro. O 1 não faz sentido, nem o indicativo de porcentagem. Vamos trocar o nome dessa coluna e da coluna do valor, especificando que ele é em porcentagem\n",
        "\n",
        "dados_parceiros = dados_parceiros.rename(columns={\"Major trading partner 1 (% of exports)\" : \"Trading Partner\", \"Value\" : \"Value (%)\"})\n"
      ],
      "metadata": {
        "id": "dCGSK_cN_262"
      },
      "execution_count": 139,
      "outputs": []
    },
    {
      "cell_type": "code",
      "source": [
        "# As informações ficariam ainda mais claras se dividíssemos o dataframe por importações e exportações. Vamos fazer isso\n",
        "\n",
        "mascara = [True if 'exports' in x else False for x in dados_parceiros['Series']]\n",
        "exp_parceiros = dados_parceiros[mascara]\n",
        "\n",
        "mascara = [True if 'imports' in x else False for x in dados_parceiros['Series']]\n",
        "imp_parceiros = dados_parceiros[mascara]"
      ],
      "metadata": {
        "id": "UJO8-zlpB5PP"
      },
      "execution_count": null,
      "outputs": []
    }
  ]
}