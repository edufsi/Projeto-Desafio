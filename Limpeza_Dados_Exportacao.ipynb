{
  "nbformat": 4,
  "nbformat_minor": 0,
  "metadata": {
    "colab": {
      "provenance": [],
      "authorship_tag": "ABX9TyPetk/wPkcUfaOzTc/AZXgB",
      "include_colab_link": true
    },
    "kernelspec": {
      "name": "python3",
      "display_name": "Python 3"
    },
    "language_info": {
      "name": "python"
    }
  },
  "cells": [
    {
      "cell_type": "markdown",
      "metadata": {
        "id": "view-in-github",
        "colab_type": "text"
      },
      "source": [
        "<a href=\"https://colab.research.google.com/github/edufsi/Projeto-Desafio/blob/Eduardo/Limpeza_Dados_Exportacao.ipynb\" target=\"_parent\"><img src=\"https://colab.research.google.com/assets/colab-badge.svg\" alt=\"Open In Colab\"/></a>"
      ]
    },
    {
      "cell_type": "code",
      "execution_count": 16,
      "metadata": {
        "id": "bAwivYRq6UjI"
      },
      "outputs": [],
      "source": [
        "import pandas as pd\n",
        "import numpy as np"
      ]
    },
    {
      "cell_type": "code",
      "source": [
        "#Importar dados:\n",
        "url_commodities = \"https://raw.githubusercontent.com/edufsi/Projeto-Desafio/main/Dados/UNdata_Export_20240412_201846138.csv\"\n",
        "url_parceiros = \"https://raw.githubusercontent.com/edufsi/Projeto-Desafio/main/Dados/SYB66_330_202310_Major%20Trading%20Partners.csv\"\n",
        "url_exportacoes = \"https://raw.githubusercontent.com/edufsi/Projeto-Desafio/main/Dados/SYB66_123_202310_Total%20Imports%20Exports%20and%20Balance%20of%20Trade.csv\"\n",
        "url_cambio = \"https://raw.githubusercontent.com/edufsi/Projeto-Desafio/main/Dados/USD_BRL_Historical_Data.csv\"\n",
        "\n",
        "\n",
        "dados_commodities = pd.read_csv(url_commodities)\n",
        "dados_parceiros = pd.read_csv(url_parceiros, encoding = \"ISO-8859-1\")\n",
        "dados_exportacoes = pd.read_csv(url_exportacoes, encoding = \"ISO-8859-1\")\n",
        "dados_cambio = pd.read_csv(url_cambio)"
      ],
      "metadata": {
        "id": "K3u_g2Ps6Y3Q"
      },
      "execution_count": 17,
      "outputs": []
    },
    {
      "cell_type": "markdown",
      "source": [
        "# LIMPEZA DOS DADOS DE EXPORTAÇÃO"
      ],
      "metadata": {
        "id": "5pCvSbLB6d8b"
      }
    },
    {
      "cell_type": "code",
      "source": [
        "# VISÃO GERAL\n",
        "print(dados_exportacoes.head())"
      ],
      "metadata": {
        "colab": {
          "base_uri": "https://localhost:8080/"
        },
        "id": "zNKlO4NZ6gbT",
        "outputId": "280ecfb4-1b01-4bae-e34c-b6af764fe88c"
      },
      "execution_count": 18,
      "outputs": [
        {
          "output_type": "stream",
          "name": "stdout",
          "text": [
            "                   T21 Total imports, exports and balance of trade Unnamed: 2  \\\n",
            "0  Region/Country/Area                                         NaN       Year   \n",
            "1                    1               Total, all countries or areas       1995   \n",
            "2                    1               Total, all countries or areas       2005   \n",
            "3                    1               Total, all countries or areas       2010   \n",
            "4                    1               Total, all countries or areas       2015   \n",
            "\n",
            "                             Unnamed: 3       Unnamed: 4  \\\n",
            "0                                Series  System of trade   \n",
            "1  Imports CIF (millions of US dollars)              NaN   \n",
            "2  Imports CIF (millions of US dollars)              NaN   \n",
            "3  Imports CIF (millions of US dollars)              NaN   \n",
            "4  Imports CIF (millions of US dollars)              NaN   \n",
            "\n",
            "                 Unnamed: 5  Unnamed: 6 Unnamed: 7  \\\n",
            "0  System of trade footnote       Value  Footnotes   \n",
            "1                       NaN   5,099,057        NaN   \n",
            "2                       NaN  10,577,013        NaN   \n",
            "3                       NaN  15,275,115        NaN   \n",
            "4                       NaN  16,482,346        NaN   \n",
            "\n",
            "                                          Unnamed: 8  \n",
            "0                                             Source  \n",
            "1  United Nations Statistics Division, New York, ...  \n",
            "2  United Nations Statistics Division, New York, ...  \n",
            "3  United Nations Statistics Division, New York, ...  \n",
            "4  United Nations Statistics Division, New York, ...  \n"
          ]
        }
      ]
    },
    {
      "cell_type": "code",
      "source": [
        "print(dados_exportacoes.info())"
      ],
      "metadata": {
        "colab": {
          "base_uri": "https://localhost:8080/"
        },
        "id": "yt4bBHBq6lW8",
        "outputId": "5929dd58-efd7-44ee-e06a-852b462034c6"
      },
      "execution_count": 19,
      "outputs": [
        {
          "output_type": "stream",
          "name": "stdout",
          "text": [
            "<class 'pandas.core.frame.DataFrame'>\n",
            "RangeIndex: 5054 entries, 0 to 5053\n",
            "Data columns (total 9 columns):\n",
            " #   Column                                       Non-Null Count  Dtype \n",
            "---  ------                                       --------------  ----- \n",
            " 0   T21                                          5054 non-null   object\n",
            " 1   Total imports, exports and balance of trade  5053 non-null   object\n",
            " 2   Unnamed: 2                                   5054 non-null   object\n",
            " 3   Unnamed: 3                                   5054 non-null   object\n",
            " 4   Unnamed: 4                                   4382 non-null   object\n",
            " 5   Unnamed: 5                                   1 non-null      object\n",
            " 6   Unnamed: 6                                   5054 non-null   object\n",
            " 7   Unnamed: 7                                   1524 non-null   object\n",
            " 8   Unnamed: 8                                   5054 non-null   object\n",
            "dtypes: object(9)\n",
            "memory usage: 355.5+ KB\n",
            "None\n"
          ]
        }
      ]
    },
    {
      "cell_type": "code",
      "source": [
        "# Os titulos das colunas estao errados. Eles estao na segunda coluna. Na primeira temos um titulo\n",
        "# Podemos usar iloc para selecionar linhas. Passando um intervalo, uma lista ou um numero retornamos as linhas correspondentes\n",
        "\n",
        "\n",
        "# Vamos tomar a primeira linha e defini-la como nossas colunas\n",
        "dados_exportacoes.columns = dados_exportacoes.iloc[0]\n",
        "\n",
        "\n",
        "# Agora que os titulos ja estao corretos, podemos excluir essa primeira linha que continha os títulos\n",
        "dados_exportacoes.drop(0, inplace=True)\n"
      ],
      "metadata": {
        "id": "OpyvoXHw61VR"
      },
      "execution_count": 20,
      "outputs": []
    },
    {
      "cell_type": "code",
      "source": [
        "# Ainda há uma coluna \"errada\" no entanto. No arquivo original, foram associados valores para representar as regioes/paises/areas e há uma coluna sem titulo para a descricao\n",
        "# Seria melhor aqui ter apenas uma coluna com os nomes das regiões, áreas e dos países. Temos que alter entao o nome da segunda coluna, essa sem titulo\n",
        "\n",
        "\n",
        "lista = [x for x in dados_exportacoes.columns]\n",
        "lista[1] = \"Region/Country\" # Substituindo o nome da coluna com nan por \"Region/Country\" (segunda coluna)\n",
        "\n",
        "dados_exportacoes.columns = lista\n",
        "\n",
        "print(dados_exportacoes.info())"
      ],
      "metadata": {
        "colab": {
          "base_uri": "https://localhost:8080/"
        },
        "id": "RJoLuolQ67q7",
        "outputId": "dfef111f-5f55-4fbe-9e85-56a788c8caeb"
      },
      "execution_count": 21,
      "outputs": [
        {
          "output_type": "stream",
          "name": "stdout",
          "text": [
            "<class 'pandas.core.frame.DataFrame'>\n",
            "RangeIndex: 5053 entries, 1 to 5053\n",
            "Data columns (total 9 columns):\n",
            " #   Column                    Non-Null Count  Dtype \n",
            "---  ------                    --------------  ----- \n",
            " 0   Region/Country/Area       5053 non-null   object\n",
            " 1   Region/Country            5053 non-null   object\n",
            " 2   Year                      5053 non-null   object\n",
            " 3   Series                    5053 non-null   object\n",
            " 4   System of trade           4381 non-null   object\n",
            " 5   System of trade footnote  0 non-null      object\n",
            " 6   Value                     5053 non-null   object\n",
            " 7   Footnotes                 1523 non-null   object\n",
            " 8   Source                    5053 non-null   object\n",
            "dtypes: object(9)\n",
            "memory usage: 355.4+ KB\n",
            "None\n"
          ]
        }
      ]
    },
    {
      "cell_type": "code",
      "source": [
        "# Agora podemos retirar as colunas inúteis\n",
        "# Podemos retirar a coluna \"System of trade footnote\", pois ela nao tem nenhum valor nao nulo\n",
        "# Tambem podemos tirar a coluna de codificacao das regioes, ja que iremos nos referir a elas pelo nome\n",
        "# A coluna Source também pode ser retirada pois apresenta apenas um valor\n",
        "\n",
        "dados_exportacoes.drop([\"System of trade footnote\", \"Region/Country/Area\", \"Source\"], axis=1, inplace=True)"
      ],
      "metadata": {
        "id": "lW12jzwq7MIa"
      },
      "execution_count": 22,
      "outputs": []
    },
    {
      "cell_type": "code",
      "source": [
        "# A coluna de valores esta como tipo objeto. Precisamos tranformá-la em numero. Nao temos numeros quebrados, podemos transformá-la em numeros inteiros\n",
        "# Precisamos retirar as virgulas dos numeros, para entao transforma-los em inteiros. Vamos transformar em inteiros de 8 bytes para ter certeza de não ter problemas de overflow\n",
        "\n",
        "dados_exportacoes['Value'] = dados_exportacoes['Value'].apply(lambda x: x.replace(',', '')).astype(np.int64)"
      ],
      "metadata": {
        "id": "HUTjz_ue7l1R"
      },
      "execution_count": null,
      "outputs": []
    },
    {
      "cell_type": "code",
      "source": [
        "# Finalmente temos um dataframe em que todas as colunas dizem algo util\n",
        "\n",
        "\n",
        "# Vamos agora tirar as regiões e uniões para o lado, deixando só os países\n",
        "\n",
        "regioes = ['Total, all countries or areas', 'Africa', 'Northern Africa',\n",
        " 'Sub-Saharan Africa', 'Eastern Africa', 'Middle Africa', 'Southern Africa',\n",
        " 'Western Africa', 'Americas', 'Northern America',\n",
        " 'Latin America & the Caribbean', 'Caribbean', 'Central America',\n",
        " 'South America', 'Asia', 'Central Asia', 'Eastern Asia', 'South-eastern Asia',\n",
        " 'Southern Asia', 'Western Asia', 'Europe', 'Eastern Europe',\n",
        " 'Northern Europe', 'Southern Europe', 'Western Europe', 'Oceania',\n",
        " 'Australia and New Zealand', 'Melanesia', 'Micronesia', 'Polynesia']\n",
        "\n",
        "\n",
        "\n",
        "exportacoes_regioes = dados_exportacoes.query('`Region/Country` in @regioes')\n",
        "exportacoes_paises = dados_exportacoes.query('`Region/Country` not in @regioes')"
      ],
      "metadata": {
        "id": "j8qPgamd78Fp"
      },
      "execution_count": null,
      "outputs": []
    },
    {
      "cell_type": "code",
      "source": [
        "# Terminamos com 2 dataframe: um para as regiões e agrupamentos e outro com cada país individual"
      ],
      "metadata": {
        "id": "ThzesAEX8DYk"
      },
      "execution_count": null,
      "outputs": []
    }
  ]
}