{
  "cells": [
    {
      "cell_type": "code",
      "execution_count": 6,
      "metadata": {
        "id": "vRcCYG9_zlVx"
      },
      "outputs": [],
      "source": [
        "import pandas as pd\n"
      ]
    },
    {
      "cell_type": "code",
      "execution_count": null,
      "metadata": {},
      "outputs": [],
      "source": []
    },
    {
      "cell_type": "code",
      "execution_count": 2,
      "metadata": {
        "id": "UlnqtawHvhYa"
      },
      "outputs": [],
      "source": [
        "#Importar dados:\n",
        "url_commodities = \"https://raw.githubusercontent.com/LeticiaSouza04/Bootcamp/main/UNdata_Export_20240412_202657352.csv\"\n"
      ]
    },
    {
      "cell_type": "code",
      "execution_count": 5,
      "metadata": {
        "colab": {
          "background_save": true,
          "base_uri": "https://localhost:8080/",
          "height": 159
        },
        "id": "RDKM2TlMzTEh",
        "outputId": "baa12cb5-68a3-4baf-c789-da5178b5ce35"
      },
      "outputs": [
        {
          "name": "stdout",
          "output_type": "stream",
          "text": [
            "      Country or Area  Year        Commodity       Flow   Trade (USD)   \n",
            "0         Afghanistan  2019  All Commodities     Export  8.704885e+08  \\\n",
            "1         Afghanistan  2019  All Commodities     Import  8.568014e+09   \n",
            "2         Afghanistan  2019  All Commodities  Re-Export  6.655197e+06   \n",
            "3         Afghanistan  2018  All Commodities     Import  7.406590e+09   \n",
            "4         Afghanistan  2018  All Commodities  Re-Export  9.263097e+06   \n",
            "...               ...   ...              ...        ...           ...   \n",
            "11175        Zimbabwe  2000  All Commodities  Re-Export  3.202940e+07   \n",
            "11176        Zimbabwe  2000  All Commodities     Export  1.607053e+09   \n",
            "11177        Zimbabwe  2000  All Commodities     Import  2.016521e+09   \n",
            "11178        Zimbabwe  1995  All Commodities     Import  2.658853e+09   \n",
            "11179        Zimbabwe  1995  All Commodities     Export  1.845906e+09   \n",
            "\n",
            "       Weight (kg) Quantity Name  Quantity  \n",
            "0              NaN   No Quantity       NaN  \n",
            "1              NaN   No Quantity       NaN  \n",
            "2              NaN   No Quantity       NaN  \n",
            "3              NaN   No Quantity       NaN  \n",
            "4              NaN   No Quantity       NaN  \n",
            "...            ...           ...       ...  \n",
            "11175          NaN   No Quantity       NaN  \n",
            "11176          NaN   No Quantity       NaN  \n",
            "11177          NaN   No Quantity       NaN  \n",
            "11178          NaN   No Quantity       NaN  \n",
            "11179          NaN   No Quantity       NaN  \n",
            "\n",
            "[11180 rows x 8 columns]\n"
          ]
        }
      ],
      "source": [
        "dados_commodities = pd.read_csv(url_commodities)\n",
        "\n",
        "print(dados_commodities)\n",
        "\n",
        "\n",
        "dados = pd.read_csv('https://data.un.org/Data.aspx?d=ComTrade&f=_l1Code%3a1')"
      ]
    },
    {
      "cell_type": "code",
      "execution_count": null,
      "metadata": {
        "id": "5xQ_XhPszjdT"
      },
      "outputs": [],
      "source": []
    }
  ],
  "metadata": {
    "colab": {
      "provenance": []
    },
    "kernelspec": {
      "display_name": "Python 3",
      "name": "python3"
    },
    "language_info": {
      "codemirror_mode": {
        "name": "ipython",
        "version": 3
      },
      "file_extension": ".py",
      "mimetype": "text/x-python",
      "name": "python",
      "nbconvert_exporter": "python",
      "pygments_lexer": "ipython3",
      "version": "3.10.3"
    }
  },
  "nbformat": 4,
  "nbformat_minor": 0
}
