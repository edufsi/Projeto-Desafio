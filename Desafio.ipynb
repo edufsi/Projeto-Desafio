{
  "cells": [
    {
      "cell_type": "code",
      "execution_count": 38,
      "metadata": {
        "id": "vRcCYG9_zlVx"
      },
      "outputs": [],
      "source": [
        "import pandas as pd\n"
      ]
    },
    {
      "cell_type": "code",
      "execution_count": 39,
      "metadata": {
        "id": "UlnqtawHvhYa"
      },
      "outputs": [],
      "source": [
        "#Importar dados:\n",
        "url_commodities = \"https://raw.githubusercontent.com/LeticiaSouza04/Bootcamp/main/UNdata_Export_20240412_202657352.csv\"\n",
        "url_parceiros = \"https://raw.githubusercontent.com/edufsi/Projeto-Desafio/main/Dados/SYB66_330_202310_Major%20Trading%20Partners.csv\"\n",
        "url_exportacoes = \"https://raw.githubusercontent.com/edufsi/Projeto-Desafio/main/Dados/SYB66_123_202310_Total%20Imports%20Exports%20and%20Balance%20of%20Trade.csv\"\n",
        "url_cambio = \"https://raw.githubusercontent.com/edufsi/Projeto-Desafio/main/Dados/USD_BRL_Historical_Data.csv\"\n",
        "\n",
        "\n",
        "dados_commodities = pd.read_csv(url_commodities)\n",
        "dados_parceiros = pd.read_csv(url_parceiros, encoding = \"ISO-8859-1\")\n",
        "dados_exportacoes = pd.read_csv(url_exportacoes, encoding = \"ISO-8859-1\")\n",
        "dados_cambio = pd.read_csv(url_cambio)"
      ]
    }
  ],
  "metadata": {
    "colab": {
      "provenance": []
    },
    "kernelspec": {
      "display_name": "Python 3",
      "name": "python3"
    },
    "language_info": {
      "codemirror_mode": {
        "name": "ipython",
        "version": 3
      },
      "file_extension": ".py",
      "mimetype": "text/x-python",
      "name": "python",
      "nbconvert_exporter": "python",
      "pygments_lexer": "ipython3",
      "version": "3.10.3"
    }
  },
  "nbformat": 4,
  "nbformat_minor": 0
}