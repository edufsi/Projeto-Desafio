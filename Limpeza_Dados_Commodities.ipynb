{
  "nbformat": 4,
  "nbformat_minor": 0,
  "metadata": {
    "colab": {
      "provenance": [],
      "authorship_tag": "ABX9TyMFKdHWaMocXdo7Dgm4II1u",
      "include_colab_link": true
    },
    "kernelspec": {
      "name": "python3",
      "display_name": "Python 3"
    },
    "language_info": {
      "name": "python"
    }
  },
  "cells": [
    {
      "cell_type": "markdown",
      "metadata": {
        "id": "view-in-github",
        "colab_type": "text"
      },
      "source": [
        "<a href=\"https://colab.research.google.com/github/edufsi/Projeto-Desafio/blob/Eduardo/Limpeza_Dados_Commodities.ipynb\" target=\"_parent\"><img src=\"https://colab.research.google.com/assets/colab-badge.svg\" alt=\"Open In Colab\"/></a>"
      ]
    },
    {
      "cell_type": "code",
      "execution_count": 31,
      "metadata": {
        "id": "0JecWJ5x40iw"
      },
      "outputs": [],
      "source": [
        "import pandas as pd\n",
        "import numpy as np"
      ]
    },
    {
      "cell_type": "code",
      "source": [
        "#Importar dados:\n",
        "url_commodities = \"https://raw.githubusercontent.com/edufsi/Projeto-Desafio/main/Dados/UNdata_Export_20240412_201846138.csv\"\n",
        "url_parceiros = \"https://raw.githubusercontent.com/edufsi/Projeto-Desafio/main/Dados/SYB66_330_202310_Major%20Trading%20Partners.csv\"\n",
        "url_exportacoes = \"https://raw.githubusercontent.com/edufsi/Projeto-Desafio/main/Dados/SYB66_123_202310_Total%20Imports%20Exports%20and%20Balance%20of%20Trade.csv\"\n",
        "url_cambio = \"https://raw.githubusercontent.com/edufsi/Projeto-Desafio/main/Dados/USD_BRL_Historical_Data.csv\"\n",
        "\n",
        "\n",
        "dados_commodities = pd.read_csv(url_commodities)\n",
        "dados_parceiros = pd.read_csv(url_parceiros, encoding = \"ISO-8859-1\")\n",
        "dados_exportacoes = pd.read_csv(url_exportacoes, encoding = \"ISO-8859-1\")\n",
        "dados_cambio = pd.read_csv(url_cambio)"
      ],
      "metadata": {
        "id": "KtcBMKig45lH"
      },
      "execution_count": 32,
      "outputs": []
    },
    {
      "cell_type": "markdown",
      "source": [
        "# Limpeza dos dados de Commodities"
      ],
      "metadata": {
        "id": "SDr-jnFV5Kd3"
      }
    },
    {
      "cell_type": "code",
      "source": [
        "# VISÃO GERAL\n",
        "print(dados_commodities.head())"
      ],
      "metadata": {
        "colab": {
          "base_uri": "https://localhost:8080/"
        },
        "id": "t5AvN25W47Mq",
        "outputId": "a2b9688b-20dc-4386-d5c8-51a72d858c50"
      },
      "execution_count": 33,
      "outputs": [
        {
          "output_type": "stream",
          "name": "stdout",
          "text": [
            "  Country or Area  Year        Commodity       Flow   Trade (USD)  \\\n",
            "0     Afghanistan  2019  All Commodities     Export  8.704885e+08   \n",
            "1     Afghanistan  2019  All Commodities     Import  8.568014e+09   \n",
            "2     Afghanistan  2019  All Commodities  Re-Export  6.655197e+06   \n",
            "3     Afghanistan  2018  All Commodities     Import  7.406590e+09   \n",
            "4     Afghanistan  2018  All Commodities  Re-Export  9.263097e+06   \n",
            "\n",
            "   Weight (kg) Quantity Name  Quantity  \n",
            "0          NaN   No Quantity       NaN  \n",
            "1          NaN   No Quantity       NaN  \n",
            "2          NaN   No Quantity       NaN  \n",
            "3          NaN   No Quantity       NaN  \n",
            "4          NaN   No Quantity       NaN  \n"
          ]
        }
      ]
    },
    {
      "cell_type": "code",
      "source": [
        "print(dados_commodities.info())"
      ],
      "metadata": {
        "colab": {
          "base_uri": "https://localhost:8080/"
        },
        "id": "U9jojzFz5VqE",
        "outputId": "371c5006-f501-4f2d-92ff-5e68fda76b7d"
      },
      "execution_count": 34,
      "outputs": [
        {
          "output_type": "stream",
          "name": "stdout",
          "text": [
            "<class 'pandas.core.frame.DataFrame'>\n",
            "RangeIndex: 11180 entries, 0 to 11179\n",
            "Data columns (total 8 columns):\n",
            " #   Column           Non-Null Count  Dtype  \n",
            "---  ------           --------------  -----  \n",
            " 0   Country or Area  11180 non-null  object \n",
            " 1   Year             11180 non-null  int64  \n",
            " 2   Commodity        11180 non-null  object \n",
            " 3   Flow             11180 non-null  object \n",
            " 4   Trade (USD)      11180 non-null  float64\n",
            " 5   Weight (kg)      0 non-null      float64\n",
            " 6   Quantity Name    11180 non-null  object \n",
            " 7   Quantity         0 non-null      float64\n",
            "dtypes: float64(3), int64(1), object(4)\n",
            "memory usage: 698.9+ KB\n",
            "None\n"
          ]
        }
      ]
    },
    {
      "cell_type": "code",
      "source": [
        "# as colunas Weight (kg) e Quantity nao possuem nenhum valor nao nulo, vamos retira-las\n",
        "\n",
        "# Retirando colunas Weight (kg) e Quantity\n",
        "dados_commodities.drop(['Quantity', 'Weight (kg)'], axis=1, inplace=True)"
      ],
      "metadata": {
        "id": "_jadXbZ-5a3e"
      },
      "execution_count": 35,
      "outputs": []
    },
    {
      "cell_type": "code",
      "source": [
        "# Vamos tirar as colunas Quantity Name e Commodity também, que só possuem um valor\n",
        "dados_commodities.drop(['Quantity Name', 'Commodity'], axis=1, inplace=True)"
      ],
      "metadata": {
        "id": "imkE0rPG5ctg"
      },
      "execution_count": 36,
      "outputs": []
    },
    {
      "cell_type": "code",
      "source": [
        "# Finalamente temos so dados uteis. Nao temos nenhum NaN nos dados tambem."
      ],
      "metadata": {
        "id": "PASEeEo756XS"
      },
      "execution_count": 36,
      "outputs": []
    }
  ]
}