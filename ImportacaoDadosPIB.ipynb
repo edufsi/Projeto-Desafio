{
  "nbformat": 4,
  "nbformat_minor": 0,
  "metadata": {
    "colab": {
      "provenance": [],
      "authorship_tag": "ABX9TyNL+5fFg2169v/PmrNdH+Rk",
      "include_colab_link": true
    },
    "kernelspec": {
      "name": "python3",
      "display_name": "Python 3"
    },
    "language_info": {
      "name": "python"
    }
  },
  "cells": [
    {
      "cell_type": "markdown",
      "metadata": {
        "id": "view-in-github",
        "colab_type": "text"
      },
      "source": [
        "<a href=\"https://colab.research.google.com/github/edufsi/Projeto-Desafio/blob/Eduardo/ImportacaoDadosPIB.ipynb\" target=\"_parent\"><img src=\"https://colab.research.google.com/assets/colab-badge.svg\" alt=\"Open In Colab\"/></a>"
      ]
    },
    {
      "cell_type": "code",
      "execution_count": null,
      "metadata": {
        "id": "X0Fjpn0K3QH4"
      },
      "outputs": [],
      "source": [
        "import pandas as pd\n",
        "import numpy as np\n",
        "\n",
        "\n",
        "def retira_virgula(x):\n",
        "  if(isinstance(x, str)):\n",
        "    x = x.replace(',', '')\n",
        "  return x\n",
        "\n",
        "\n",
        "\n",
        "def import_pib(ano_inicial, ano_final):\n",
        "\n",
        "  if ano_inicial < 1970 or ano_final > 2029:\n",
        "    raise Exception(\"Anos limites ultrapassados: 1970 - 2029\")\n",
        "  elif ano_inicial > ano_final:\n",
        "    raise Exception(\"Ano inicial maior que ano final\")\n",
        "\n",
        "\n",
        "  inicio = (ano_inicial - 1970) // 10\n",
        "\n",
        "  fim = (ano_final - 1970) // 10\n",
        "\n",
        "  arquivos = [\"https://raw.githubusercontent.com/edufsi/Projeto-Desafio/Eduardo/Dados/GDP-1970-1979.csv\",\n",
        "              \"https://raw.githubusercontent.com/edufsi/Projeto-Desafio/Eduardo/Dados/GDP-1980-1989.csv\",\n",
        "              \"https://raw.githubusercontent.com/edufsi/Projeto-Desafio/Eduardo/Dados/GDP-1990-1999.csv\",\n",
        "              \"https://raw.githubusercontent.com/edufsi/Projeto-Desafio/Eduardo/Dados/GDP-2000-2009.csv\",\n",
        "              \"https://raw.githubusercontent.com/edufsi/Projeto-Desafio/Eduardo/Dados/GDP-2010-2019.csv\",\n",
        "              \"https://raw.githubusercontent.com/edufsi/Projeto-Desafio/Eduardo/Dados/GDP-2020-2029.csv\"]\n",
        "\n",
        "\n",
        "  dados_finais = pd.DataFrame()\n",
        "\n",
        "  for i in range(inicio, fim + 1):\n",
        "    dados_importados = pd.read_csv(arquivos[i])\n",
        "\n",
        "    #pd.melt: dadas as colunas de valores para id e colunas que contém os valores, quebra as colunas que contém os valores em várias linhas numa única coluna \"variable\"\n",
        "    # Nesse caso, as colunas de anos estão sendo quebradas e está sendo criada uma única coluna que contém os anos\n",
        "    dados_importados = pd.melt(dados_importados, id_vars=['Country (or dependent territory)'], value_vars = map(str, range(1970 + 10 * i, 1970 + 10 * (i + 1))), var_name='Year', value_name='Value (millions of USD)')\n",
        "\n",
        "    dados_importados['Year'] = dados_importados['Year'].astype(np.int64)\n",
        "\n",
        "\n",
        "    dados_importados['Value (millions of USD)'] = dados_importados['Value (millions of USD)'].apply(retira_virgula)\n",
        "    dados_importados['Value (millions of USD)'] = dados_importados['Value (millions of USD)'].astype(np.float64)\n",
        "\n",
        "    dados_importados = dados_importados.query(\"Year >= @ano_inicial & Year <= @ano_final\")\n",
        "    dados_finais = pd.concat([dados_finais, dados_importados])\n",
        "\n",
        "  return dados_finais\n",
        "\n",
        "\n",
        "\n",
        "\n",
        "\n",
        "\n",
        "\n"
      ]
    }
  ]
}